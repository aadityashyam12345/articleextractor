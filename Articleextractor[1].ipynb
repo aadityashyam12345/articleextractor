{
 "cells": [
  {
   "cell_type": "code",
   "execution_count": 2,
   "metadata": {},
   "outputs": [],
   "source": [
    "# News Article Extractor\n",
    "# Under work\n",
    "# To Do\n",
    "# add headers\n",
    "# add user agent\n",
    "# crack wsj article encryption\n",
    "# add url textbox, with error checking\n",
    "# add article search, with error checking\n",
    "# add saving to a file (easiest part - done)\n",
    "# add file opening in new tab (done)\n",
    "# add more news websites\n",
    "# separate everything into new files (can be done easily)\n",
    "# make a GUI"
   ]
  },
  {
   "cell_type": "code",
   "execution_count": 3,
   "metadata": {},
   "outputs": [],
   "source": [
    "# import beautifulsoup to parse HTML and requests to visit website + os for commands\n",
    "import requests\n",
    "from bs4 import BeautifulSoup as bs\n",
    "import subprocess\n",
    "import urllib"
   ]
  },
  {
   "cell_type": "code",
   "execution_count": 4,
   "metadata": {},
   "outputs": [],
   "source": [
    "def parser():\n",
    "    #get page and parse it\n",
    "    page = requests.get(link)\n",
    "    soup = bs(page.text,'html.parser')\n",
    "    # find the class of the main body paragraph\n",
    "    paragraphs = str(soup.find_all(class_ = classes[domain]))\n",
    "    # delete everything that is not text\n",
    "    soup = bs(paragraphs)\n",
    "    for script in soup([\"script\",\"style\"]):\n",
    "        script.extract()\n",
    "    global content \n",
    "    content = soup.get_text()"
   ]
  },
  {
   "cell_type": "code",
   "execution_count": 5,
   "metadata": {},
   "outputs": [],
   "source": [
    "def runoperations():\n",
    "    parser()\n",
    "    # save results to html file and auto-close\n",
    "    with open(\"news.html\",\"w\") as f:\n",
    "        f.write(f\"\"\"<!DOCTYPE HTML PUBLIC \" -//W3C//DTD HTML 4.01 Transition//EN\" \n",
    "    \"http://www.w3.org/TR/htm14/loose.dtd\">\n",
    "    <html>\n",
    "      <head>\n",
    "        <title>{link}</title>\n",
    "        <link rel=\"stylesheet\" href=\"webpage.css\" type=\"text/css\"/>\n",
    "      </head>\n",
    "      <body>\n",
    "        <h3> The link of this webpage is {link} </h3>\n",
    "        {content}\n",
    "      </body>\n",
    "    </html>\"\"\")\n",
    "    # open said html file in chrome\n",
    "    subprocess.run([\"open\", \"-a\", \"/Applications/Google Chrome.app\", \"news.html\"])"
   ]
  },
  {
   "cell_type": "code",
   "execution_count": 6,
   "metadata": {},
   "outputs": [
    {
     "name": "stdout",
     "output_type": "stream",
     "text": [
      "Enter link here\n",
      " \n"
     ]
    },
    {
     "name": "stdin",
     "output_type": "stream",
     "text": [
      " https://www.nytimes.com/2020/04/10/magazine/coronavirus-economy-debate.html\n"
     ]
    },
    {
     "ename": "NameError",
     "evalue": "name 'classes' is not defined",
     "output_type": "error",
     "traceback": [
      "\u001b[0;31m---------------------------------------------------------------------------\u001b[0m",
      "\u001b[0;31mNameError\u001b[0m                                 Traceback (most recent call last)",
      "\u001b[0;32m<ipython-input-6-b4ae336d6763>\u001b[0m in \u001b[0;36m<module>\u001b[0;34m\u001b[0m\n\u001b[1;32m      4\u001b[0m \u001b[0mlink\u001b[0m \u001b[0;34m=\u001b[0m \u001b[0minput\u001b[0m\u001b[0;34m(\u001b[0m\u001b[0;34m)\u001b[0m\u001b[0;34m\u001b[0m\u001b[0;34m\u001b[0m\u001b[0m\n\u001b[1;32m      5\u001b[0m \u001b[0mdomain\u001b[0m \u001b[0;34m=\u001b[0m \u001b[0murllib\u001b[0m\u001b[0;34m.\u001b[0m\u001b[0mparse\u001b[0m\u001b[0;34m.\u001b[0m\u001b[0murlparse\u001b[0m\u001b[0;34m(\u001b[0m\u001b[0mlink\u001b[0m\u001b[0;34m)\u001b[0m\u001b[0;34m.\u001b[0m\u001b[0mnetloc\u001b[0m\u001b[0;34m.\u001b[0m\u001b[0mreplace\u001b[0m\u001b[0;34m(\u001b[0m\u001b[0;34m\"www.\"\u001b[0m\u001b[0;34m,\u001b[0m\u001b[0;34m\"\"\u001b[0m\u001b[0;34m)\u001b[0m\u001b[0;34m.\u001b[0m\u001b[0mreplace\u001b[0m\u001b[0;34m(\u001b[0m\u001b[0;34m\".com\"\u001b[0m\u001b[0;34m,\u001b[0m\u001b[0;34m\"\"\u001b[0m\u001b[0;34m)\u001b[0m\u001b[0;34m\u001b[0m\u001b[0;34m\u001b[0m\u001b[0m\n\u001b[0;32m----> 6\u001b[0;31m \u001b[0;32mif\u001b[0m \u001b[0mdomain\u001b[0m \u001b[0;32min\u001b[0m \u001b[0mclasses\u001b[0m\u001b[0;34m:\u001b[0m\u001b[0;34m\u001b[0m\u001b[0;34m\u001b[0m\u001b[0m\n\u001b[0m\u001b[1;32m      7\u001b[0m     \u001b[0mrunoperations\u001b[0m\u001b[0;34m(\u001b[0m\u001b[0;34m)\u001b[0m\u001b[0;34m\u001b[0m\u001b[0;34m\u001b[0m\u001b[0m\n\u001b[1;32m      8\u001b[0m \u001b[0;32melse\u001b[0m\u001b[0;34m:\u001b[0m\u001b[0;34m\u001b[0m\u001b[0;34m\u001b[0m\u001b[0m\n",
      "\u001b[0;31mNameError\u001b[0m: name 'classes' is not defined"
     ]
    }
   ],
   "source": [
    "#parse url of link automatically, and use class based on that, or save url later to add to database\n",
    "print(\"Enter link here\")\n",
    "print(\" \")\n",
    "link = input()\n",
    "domain = urllib.parse.urlparse(link).netloc.replace(\"www.\",\"\").replace(\".com\",\"\")\n",
    "if domain in classes:\n",
    "    runoperations()\n",
    "else:\n",
    "    print(f\"adding {domain} to sites list\")\n",
    "    with open(\"sitestoadd.txt\",\"a\") as f:\n",
    "        f.write(domain)"
   ]
  },
  {
   "cell_type": "code",
   "execution_count": null,
   "metadata": {},
   "outputs": [],
   "source": []
  }
 ],
 "metadata": {
  "kernelspec": {
   "display_name": "Python 3",
   "language": "python",
   "name": "python3"
  },
  "language_info": {
   "codemirror_mode": {
    "name": "ipython",
    "version": 3
   },
   "file_extension": ".py",
   "mimetype": "text/x-python",
   "name": "python",
   "nbconvert_exporter": "python",
   "pygments_lexer": "ipython3",
   "version": "3.7.2"
  }
 },
 "nbformat": 4,
 "nbformat_minor": 4
}
