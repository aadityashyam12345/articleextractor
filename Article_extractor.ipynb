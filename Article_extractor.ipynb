{
 "cells": [
  {
   "cell_type": "code",
   "execution_count": 12,
   "metadata": {},
   "outputs": [],
   "source": [
    "# News Article Extractor\n",
    "# Under work\n",
    "# To Do\n",
    "# add headers\n",
    "# add user agent\n",
    "# crack wsj article encryption\n",
    "# add url textbox, with error checking\n",
    "# add article search, with error checking\n",
    "# add more news websites\n",
    "# separate everything into new files (can be done easily)\n",
    "# make a GUI"
   ]
  },
  {
   "cell_type": "code",
   "execution_count": 13,
   "metadata": {},
   "outputs": [],
   "source": [
    "# import beautifulsoup to parse HTML and requests to visit website + os for commands\n",
    "import requests\n",
    "from bs4 import BeautifulSoup as bs\n",
    "import subprocess\n",
    "import urllib"
   ]
  },
  {
   "cell_type": "code",
   "execution_count": 14,
   "metadata": {},
   "outputs": [],
   "source": [
    "classes = {\"nytimes\" : \"css-1fanzo5\",\n",
    "\"usatoday\" : \"gnt_ar_b_p\",       \n",
    "\"wsj\" : \"wsj-snippet-body\",\n",
    "\"foreignpolicy\" : \"post-content-main initial-drop-cap shares-position\",\n",
    "\"kognity\" : \"content-editable\",\n",
    "\"economist\" : \"article__body-text\",\n",
    "\"fortune\" : \"gutenbergContent__content--1FgGp\"}"
   ]
  },
  {
   "cell_type": "code",
   "execution_count": 15,
   "metadata": {},
   "outputs": [],
   "source": [
    "def runoperations():\n",
    "    #get page and parse it\n",
    "    page = requests.get(link)\n",
    "    soup = bs(page.text,'html.parser')\n",
    "    # find the class of the main body paragraph\n",
    "    paragraphs = str(soup.find_all(class_ = classes[domain]))\n",
    "    # delete everything that is not text\n",
    "    soup = bs(paragraphs)\n",
    "    for script in soup([\"script\",\"style\"]):\n",
    "        script.extract() \n",
    "    content = soup.get_text()\n",
    "    # save results to html file and auto-close\n",
    "    with open(\"news.html\",\"w\") as f:\n",
    "        f.write(f\"\"\"<!DOCTYPE HTML PUBLIC \" -//W3C//DTD HTML 4.01 Transition//EN\" \n",
    "    \"http://www.w3.org/TR/htm14/loose.dtd\">\n",
    "    <html>\n",
    "      <head>\n",
    "        <title>{link}</title>\n",
    "        <link rel=\"stylesheet\" href=\"webpage.css\" type=\"text/css\"/>\n",
    "      </head>\n",
    "      <body>\n",
    "        <h3> The link of this webpage is {link} </h3>\n",
    "        {content}\n",
    "      </body>\n",
    "    </html>\"\"\")\n",
    "    # open said html file in chrome\n",
    "    subprocess.run([\"open\", \"-a\", \"/Applications/Google Chrome.app\", \"news.html\"])"
   ]
  },
  {
   "cell_type": "code",
   "execution_count": 19,
   "metadata": {},
   "outputs": [
    {
     "name": "stdout",
     "output_type": "stream",
     "text": [
      "Enter link here\n",
      " \n"
     ]
    },
    {
     "name": "stdin",
     "output_type": "stream",
     "text": [
      " https://www.nytimes.com/2020/08/24/us/california-fires-wildfires.html\n"
     ]
    }
   ],
   "source": [
    "#parse url of link automatically, and use class based on that, or save url later to add to database\n",
    "print(\"Enter link here\")\n",
    "print(\" \")\n",
    "link = input()\n",
    "domain = urllib.parse.urlparse(link).netloc.replace(\"www.\",\"\").replace(\".com\",\"\")\n",
    "if domain in classes:\n",
    "    runoperations()\n",
    "else:\n",
    "    print(f\"adding {domain} to sites list\")\n",
    "    with open(\"sitestoadd.txt\",\"a\") as f:\n",
    "        f.write(domain)"
   ]
  },
  {
   "cell_type": "code",
   "execution_count": null,
   "metadata": {},
   "outputs": [],
   "source": []
  }
 ],
 "metadata": {
  "kernelspec": {
   "display_name": "Python 3",
   "language": "python",
   "name": "python3"
  },
  "language_info": {
   "codemirror_mode": {
    "name": "ipython",
    "version": 3
   },
   "file_extension": ".py",
   "mimetype": "text/x-python",
   "name": "python",
   "nbconvert_exporter": "python",
   "pygments_lexer": "ipython3",
   "version": "3.7.2"
  }
 },
 "nbformat": 4,
 "nbformat_minor": 4
}
