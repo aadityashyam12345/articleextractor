{
 "cells": [
  {
   "cell_type": "code",
   "execution_count": null,
   "metadata": {},
   "outputs": [],
   "source": [
    "# News Article Extractor\n",
    "# Under work\n",
    "# To Do\n",
    "# add headers\n",
    "# add user agent\n",
    "# crack wsj article encryption\n",
    "# add url textbox, with error checking\n",
    "# add article search, with error checking\n",
    "# add more news websites\n",
    "# separate everything into new files (can be done easily) (Edit: cannot be done easily)\n",
    "# make a GUI"
   ]
  },
  {
   "cell_type": "code",
   "execution_count": null,
   "metadata": {},
   "outputs": [],
   "source": [
    "#Important todo:\n",
    "# Make everything into functions (Refactor)\n",
    "# Make program recongize domains and subdomains\n",
    "# Ensure that a website already in the sites file not there again\n",
    "# Write a better link_error_check file\n",
    "# Write a better method to find out the domain of a function\n",
    "# Move the html to another location, so that the main thing looks neat\n",
    "# Make everything important a function \n",
    "# Implement CPython / Pypy\n",
    "# Long-TERM PROJECT"
   ]
  },
  {
   "cell_type": "code",
   "execution_count": null,
   "metadata": {},
   "outputs": [],
   "source": [
    "# sites = []\n",
    "# with open(\"sites.txt\",\"r+\") as f:\n",
    "#     f.read()\n",
    "# print(f.read())\n",
    "\n",
    "# # import beautifulsoup to parse HTML and requests to visit website + os for commands\n",
    "# import requests\n",
    "# from bs4 import BeautifulSoup as bs\n",
    "# import subprocess\n",
    "# import tldextract\n",
    "\n",
    "# def link_error_check(link):\n",
    "#     try:\n",
    "#         page = requests.get(link)\n",
    "#     except Exception:\n",
    "#         print(Exception)\n",
    "\n",
    "# classes = {\"nytimes\" : \"css-1fanzo5\",\n",
    "# \"usatoday\" : \"gnt_ar_b_p\",       \n",
    "# \"wsj\" : \"wsj-snippet-body\",\n",
    "# \"foreignpolicy\" : \"post-content-main initial-drop-cap shares-position\",\n",
    "# \"kognity\" : \"content-editable\",\n",
    "# \"economist\" : \"article__body-text\",\n",
    "# \"fortune\" : \"gutenbergContent__content--1FgGp\",\n",
    "# \"bloomberg\" : \"body-copy-v2 fence-body\"}\n",
    "\n",
    "# def runoperations():\n",
    "#     #get page and parse it\n",
    "#     page = requests.get(link)\n",
    "#     soup = bs(page.text,'html.parser')\n",
    "#     # find the class of the main body paragraph\n",
    "#     paragraphs = str(soup.find_all(class_ = classes[domain]))\n",
    "#     # delete everything that is not text\n",
    "#     soup = bs(paragraphs)\n",
    "#     for script in soup([\"script\",\"style\"]):\n",
    "#         script.extract() \n",
    "#     content = soup.get_text()\n",
    "#     # save results to html file and auto-close\n",
    "#     with open(\"news.html\",\"w\") as f:\n",
    "#         f.write(f\"\"\"<!DOCTYPE HTML PUBLIC \" -//W3C//DTD HTML 4.01 Transition//EN\" \n",
    "#     \"http://www.w3.org/TR/htm14/loose.dtd\">\n",
    "#     <html>\n",
    "#       <head>\n",
    "#         <title>{link}</title>\n",
    "#         <link rel=\"stylesheet\" href=\"webpage.css\" type=\"text/css\"/>\n",
    "#       </head>\n",
    "#       <body>\n",
    "#         <h3> The link of this webpage is {link} </h3>\n",
    "#         <h3> Click <a href='#'>here </a>to open the file in finder </h3>\n",
    "#         {content}\n",
    "#       </body>\n",
    "#     </html>\"\"\")\n",
    "#     # open said html file in chrome\n",
    "#     subprocess.run([\"open\", \"-a\", \"/Applications/Google Chrome.app\", \"news.html\"])\n",
    "\n",
    "# #parse url of link automatically, and use class based on that, or save url later to add to database\n",
    "# print(\"Enter link here\")\n",
    "# print(\" \")\n",
    "# link = input()\n",
    "# domain = urllib.parse.urlparse(link).netloc.replace(\"www.\",\"\").replace(\".com\",\"\")\n",
    "# link_error_check(link)\n",
    "# if domain in classes:\n",
    "#     runoperations()\n",
    "# else:\n",
    "#     print(f\"adding {domain} to sites list\")\n",
    "#     with open(\"sites.txt\",\"r+\") as f:\n",
    "#         f.write(domain+\"\\n\")"
   ]
  },
  {
   "cell_type": "code",
   "execution_count": 15,
   "metadata": {},
   "outputs": [],
   "source": [
    "# things to be rewritten\n",
    "    # parser\n",
    "    # main\n",
    "    # import and export files "
   ]
  },
  {
   "cell_type": "code",
   "execution_count": 16,
   "metadata": {},
   "outputs": [],
   "source": [
    "#!/usr/bin/env python3\n",
    "# import requests to ping website, bs4 to parse website with results from requests \n",
    "# import subprocess to run os commands \n",
    "# import tldextract to parse link input from user and find domain \n",
    "# import sys to kill the program if errors are found\n",
    "import requests\n",
    "from bs4 import BeautifulSoup as bs\n",
    "import subprocess\n",
    "import tldextract\n",
    "import sys"
   ]
  },
  {
   "cell_type": "code",
   "execution_count": 17,
   "metadata": {},
   "outputs": [],
   "source": [
    "classes = {\"nytimes\" : \"css-1fanzo5\",\n",
    "\"usatoday\" : \"gnt_ar_b_p\",       \n",
    "\"wsj\" : \"wsj-snippet-body\",\n",
    "\"foreignpolicy\" : \"post-content-main initial-drop-cap shares-position\",\n",
    "\"kognity\" : \"content-editable\",\n",
    "\"economist\" : \"article__body-text\",\n",
    "\"fortune\" : \"gutenbergContent__content--1FgGp\",\n",
    "\"bloomberg\" : \"body-copy-v2 fence-body\"}"
   ]
  },
  {
   "cell_type": "code",
   "execution_count": 18,
   "metadata": {},
   "outputs": [],
   "source": [
    "def link_check(link):\n",
    "    try:\n",
    "        page = requests.get(link)\n",
    "        return link\n",
    "    except Exception as e:\n",
    "        print(e)\n",
    "        print(\" \")\n",
    "        raise(\"Connection Failed\")"
   ]
  },
  {
   "cell_type": "code",
   "execution_count": 19,
   "metadata": {},
   "outputs": [],
   "source": [
    "def main():\n",
    "    link = input(\"Enter link here: \")\n",
    "    # Parse link and output main domain if subdomain else use domain provided in link\n",
    "    try:\n",
    "        link_check(link)\n",
    "        if link_check == False:\n",
    "            print(\"Please try again\")\n",
    "            main()\n",
    "        domain = tldextract.extract(link).domain\n",
    "        if domain in classes:\n",
    "            run(link,domain)\n",
    "        else:\n",
    "            print(f\"adding {domain} to sites list\")\n",
    "            with open(\"sites.txt\",\"r+\") as f:\n",
    "                f.write(domain+\"\\n\")\n",
    "    except Exception as e:\n",
    "        print(e)"
   ]
  },
  {
   "cell_type": "code",
   "execution_count": 20,
   "metadata": {},
   "outputs": [],
   "source": [
    "def run(link,domain):\n",
    "    #get page and parse it\n",
    "    page = requests.get(link)\n",
    "    soup = bs(page.text,'html.parser')\n",
    "    # find the class of the main body paragraph\n",
    "    paragraphs = str(soup.find_all(class_ = classes[domain]))\n",
    "    # delete everything that is not text\n",
    "    soup = bs(paragraphs)\n",
    "    for script in soup([\"script\",\"style\"]):\n",
    "        script.extract() \n",
    "    content = soup.get_text()\n",
    "    writer(link,content)"
   ]
  },
  {
   "cell_type": "code",
   "execution_count": 21,
   "metadata": {},
   "outputs": [],
   "source": [
    "def writer(link,content):\n",
    "    # save results to html file and auto-close\n",
    "    with open(\"news.html\",\"w\") as f:\n",
    "        f.write(f\"\"\"<!DOCTYPE HTML PUBLIC \" -//W3C//DTD HTML 4.01 Transition//EN\" \n",
    "    \"http://www.w3.org/TR/htm14/loose.dtd\">\n",
    "    <html>\n",
    "      <head>\n",
    "        <title>{link}</title>\n",
    "        <link rel=\"stylesheet\" href=\"webpage.css\" type=\"text/css\"/>\n",
    "      </head>\n",
    "      <body>\n",
    "        <h3> The link of this webpage is {link} </h3>\n",
    "        <h3> Click <a href='#'>here </a>to open the file in finder </h3>\n",
    "        {content}\n",
    "      </body>\n",
    "    </html>\"\"\")\n",
    "    # open said html file in chrome\n",
    "    subprocess.run([\"open\", \"-a\", \"/Applications/Google Chrome.app\", \"news.html\"])\n",
    "    main()"
   ]
  },
  {
   "cell_type": "code",
   "execution_count": null,
   "metadata": {},
   "outputs": [],
   "source": [
    "main()"
   ]
  }
 ],
 "metadata": {
  "kernelspec": {
   "display_name": "Python 3",
   "language": "python",
   "name": "python3"
  },
  "language_info": {
   "codemirror_mode": {
    "name": "ipython",
    "version": 3
   },
   "file_extension": ".py",
   "mimetype": "text/x-python",
   "name": "python",
   "nbconvert_exporter": "python",
   "pygments_lexer": "ipython3",
   "version": "3.7.2"
  }
 },
 "nbformat": 4,
 "nbformat_minor": 4
}
