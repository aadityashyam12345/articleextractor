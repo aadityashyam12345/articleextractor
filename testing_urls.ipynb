{
 "cells": [
  {
   "cell_type": "code",
   "execution_count": null,
   "metadata": {},
   "outputs": [],
   "source": [
    "# testing urls\n",
    "urls = {\n",
    "    \"url\"  : \"https://www.nytimes.com/2020/08/11/world/middleeast/lebanon-government-resigns-explainer.html\",\n",
    "    \"url1\" : \"https://www.usatoday.com/story/travel/cruises/2020/02/27/coronavirus-quarantine-separates-cruise-ship-couple-u-s-japan/4858107002/\",\n",
    "    \"url2\" : \"https://www.wsj.com/articles/michael-bloombergs-campaign-sought-andrew-yangsbacking-floated-vice-presidential-slot-11582831342?mod=hp_lead_pos7\",\n",
    "    \"url3\" : \"https://foreignpolicy.com/2020/02/27/slovakia-parliament-election-stark-choice-jan-kuciak-marian-kocner-murder-trial-smer-caputova-kotleba/\",\n",
    "    \"url4\" : \"https://cajp.kognity.com/study/app/ibdp-mathematics-analysis-and-approaches-sl/geometry-and-trigonometry/trigonometric-equations/the-big-picture/\"\n",
    "    \"url5\" : \"https://fortune.com/2020/06/08/why-is-the-stock-market-going-up-stocks-rising-economy-coronavirus-covid-19-pandemic/\"\n",
    "}"
   ]
  }
 ],
 "metadata": {
  "kernelspec": {
   "display_name": "Python 3",
   "language": "python",
   "name": "python3"
  },
  "language_info": {
   "codemirror_mode": {
    "name": "ipython",
    "version": 3
   },
   "file_extension": ".py",
   "mimetype": "text/x-python",
   "name": "python",
   "nbconvert_exporter": "python",
   "pygments_lexer": "ipython3",
   "version": "3.7.2"
  }
 },
 "nbformat": 4,
 "nbformat_minor": 4
}
